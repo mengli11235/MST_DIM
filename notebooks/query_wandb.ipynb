{
 "cells": [
  {
   "cell_type": "code",
   "execution_count": 1,
   "metadata": {},
   "outputs": [],
   "source": [
    "import wandb\n",
    "import pandas as pd"
   ]
  },
  {
   "cell_type": "code",
   "execution_count": 2,
   "metadata": {},
   "outputs": [],
   "source": [
    "api = wandb.Api()"
   ]
  },
  {
   "cell_type": "code",
   "execution_count": 238,
   "metadata": {},
   "outputs": [],
   "source": [
    "runs = list(api.runs(\"curl-atari/curl-atari-2\", {\"config.num_runs\": 5, \n",
    "                                                 \"state\": \"finished\",\n",
    "                                                 \"config.collect_mode\": \"random_agent\"}))\n",
    "# A more complex query example:\n",
    "# runs = list(api.runs(\"curl-atari/curl-atari-2\", {\"config.num_runs\": 5, \n",
    "#                                                 \"$or\": [{\"state\": \"finished\"}, {\"state\": \"running\"}]}))"
   ]
  },
  {
   "cell_type": "code",
   "execution_count": 239,
   "metadata": {},
   "outputs": [
    {
     "data": {
      "text/plain": [
       "45"
      ]
     },
     "execution_count": 239,
     "metadata": {},
     "output_type": "execute_result"
    }
   ],
   "source": [
    "len(runs)"
   ]
  },
  {
   "cell_type": "code",
   "execution_count": 228,
   "metadata": {},
   "outputs": [],
   "source": [
    "df = pd.DataFrame()\n",
    "df['env_name'] = [run.config['env_name'] for run in runs]\n",
    "df['method'] = [run.config['method'] for run in runs]\n",
    "df['test_mean_acc'] = [run.summary_metrics.get('mean_test_mean_acc', None) * 100. for run in runs]\n",
    "df['stderr_test_mean_acc'] = [run.summary_metrics.get('stderr_test_mean_acc', None) * 100. for run in runs]"
   ]
  },
  {
   "cell_type": "code",
   "execution_count": 222,
   "metadata": {},
   "outputs": [
    {
     "name": "stdout",
     "output_type": "stream",
     "text": [
      "                       env_name       method  test_mean_acc  stderr_test_mean_acc\n",
      "          BerzerkNoFrameskip-v4   random-cnn          58.32                  0.28\n",
      "           BoxingNoFrameskip-v4   random-cnn          57.47                  0.72\n",
      "           BoxingNoFrameskip-v4   supervised          99.45                  0.06\n",
      "         BreakoutNoFrameskip-v4   random-cnn          72.84                  0.70\n",
      "         BreakoutNoFrameskip-v4   supervised          98.52                  0.03\n",
      "         DefenderNoFrameskip-v4   random-cnn          74.94                  0.27\n",
      "         DefenderNoFrameskip-v4  flat-pixels          87.69                  0.54\n",
      "         DefenderNoFrameskip-v4   supervised          90.59                  0.52\n",
      "      DemonAttackNoFrameskip-v4   random-cnn          40.61                  1.09\n",
      "      DemonAttackNoFrameskip-v4   supervised          89.28                  0.28\n",
      "           EnduroNoFrameskip-v4   random-cnn          89.44                  0.62\n",
      "           EnduroNoFrameskip-v4   supervised          92.48                  0.07\n",
      "          FreewayNoFrameskip-v4   supervised          99.22                  0.14\n",
      "        FrostbiteNoFrameskip-v4   random-cnn          80.71                  0.53\n",
      "             HeroNoFrameskip-v4   random-cnn          56.83                  0.26\n",
      "             HeroNoFrameskip-v4  flat-pixels          90.34                  0.52\n",
      "             HeroNoFrameskip-v4   supervised          96.88                  0.18\n",
      " MontezumaRevengeNoFrameskip-v4   random-cnn          66.78                  0.50\n",
      " MontezumaRevengeNoFrameskip-v4  flat-pixels          89.34                  0.17\n",
      " MontezumaRevengeNoFrameskip-v4   supervised          93.28                  0.38\n",
      "         MsPacmanNoFrameskip-v4   random-cnn          46.36                  0.45\n",
      "          PitfallNoFrameskip-v4   random-cnn          35.52                  1.13\n",
      "          PitfallNoFrameskip-v4   supervised          62.43                  0.45\n",
      "             PongNoFrameskip-v4   supervised          36.00                  0.95\n",
      "             PongNoFrameskip-v4   random-cnn          78.64                  0.18\n",
      "             PongNoFrameskip-v4  flat-pixels          80.07                  0.51\n",
      "       PrivateEyeNoFrameskip-v4   random-cnn          35.49                  0.78\n",
      "       PrivateEyeNoFrameskip-v4  flat-pixels          35.89                  0.39\n",
      "       PrivateEyeNoFrameskip-v4   supervised          82.14                  0.60\n",
      "            QbertNoFrameskip-v4   random-cnn          36.23                  0.43\n",
      "            QbertNoFrameskip-v4  flat-pixels          41.05                  0.86\n",
      "            QbertNoFrameskip-v4   supervised          60.86                  0.72\n",
      "        RiverraidNoFrameskip-v4   supervised          66.64                  0.45\n",
      "        RiverraidNoFrameskip-v4   random-cnn          78.67                  0.29\n",
      "        RiverraidNoFrameskip-v4  flat-pixels          90.62                  0.27\n",
      "         SeaquestNoFrameskip-v4   random-cnn          46.27                  0.22\n",
      "         SeaquestNoFrameskip-v4   supervised          65.02                  0.24\n",
      "          SolarisNoFrameskip-v4   random-cnn          50.93                  0.37\n",
      "          SolarisNoFrameskip-v4   supervised          83.84                  0.28\n",
      "    SpaceInvadersNoFrameskip-v4   random-cnn          87.71                  0.23\n",
      "    SpaceInvadersNoFrameskip-v4  flat-pixels          90.17                  0.13\n",
      "    SpaceInvadersNoFrameskip-v4   supervised          96.06                  0.51\n",
      "          VentureNoFrameskip-v4   random-cnn          82.99                  0.79\n",
      "      YarsRevengeNoFrameskip-v4   random-cnn          39.94                  0.85\n",
      "      YarsRevengeNoFrameskip-v4   supervised          70.51                  0.68\n"
     ]
    }
   ],
   "source": [
    "df = df.sort_values(by=['env_name', 'test_mean_acc'])\n",
    "df = df.round(2)\n",
    "print(df.to_string(index=False))"
   ]
  },
  {
   "cell_type": "code",
   "execution_count": null,
   "metadata": {},
   "outputs": [],
   "source": []
  }
 ],
 "metadata": {
  "kernelspec": {
   "display_name": "Python 3",
   "language": "python",
   "name": "python3"
  },
  "language_info": {
   "codemirror_mode": {
    "name": "ipython",
    "version": 3
   },
   "file_extension": ".py",
   "mimetype": "text/x-python",
   "name": "python",
   "nbconvert_exporter": "python",
   "pygments_lexer": "ipython3",
   "version": "3.7.1"
  }
 },
 "nbformat": 4,
 "nbformat_minor": 2
}
