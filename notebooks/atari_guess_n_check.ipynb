{
 "cells": [
  {
   "cell_type": "markdown",
   "metadata": {},
   "source": [
    "### 1. Import This Stuff"
   ]
  },
  {
   "cell_type": "code",
   "execution_count": 4,
   "metadata": {},
   "outputs": [],
   "source": [
    "import gym\n",
    "import matplotlib.pyplot as plt\n",
    "%matplotlib inline\n",
    "import numpy as np\n",
    "\n",
    "def step(action, num_steps=1):\n",
    "    e =env.unwrapped\n",
    "    actions_meanings = e.get_action_meanings()\n",
    "#     print(actions_meanings)\n",
    "    act_dict = {actions_meanings[i].lower():i for i in range(len(actions_meanings))}\n",
    "    \n",
    "    a = act_dict[action]\n",
    "    for i in range(num_steps):\n",
    "        env.step(a)\n",
    "\n",
    "def printinds(inds,name=\"\"):\n",
    "    print(name,\": [\",\", \".join([\"%3i\"%(i) for i in inds]),\"]\") \n",
    "    "
   ]
  },
  {
   "cell_type": "markdown",
   "metadata": {},
   "source": [
    "### 2. Pick Game"
   ]
  },
  {
   "cell_type": "code",
   "execution_count": 5,
   "metadata": {},
   "outputs": [],
   "source": [
    "env = gym.make(\"BattleZoneNoFrameskip-v4\")\n",
    "env.reset();"
   ]
  },
  {
   "cell_type": "markdown",
   "metadata": {},
   "source": [
    "### 3. Render The Game"
   ]
  },
  {
   "cell_type": "markdown",
   "metadata": {},
   "source": [
    "On Macs this will open a separate window with the game. Try to get this window split-screened with this notebook."
   ]
  },
  {
   "cell_type": "code",
   "execution_count": 6,
   "metadata": {},
   "outputs": [
    {
     "data": {
      "text/plain": [
       "True"
      ]
     },
     "execution_count": 6,
     "metadata": {},
     "output_type": "execute_result"
    }
   ],
   "source": [
    "env.render(\"human\")"
   ]
  },
  {
   "cell_type": "markdown",
   "metadata": {},
   "source": [
    "### 4. Pick RAM Bytes to Ignore "
   ]
  },
  {
   "cell_type": "markdown",
   "metadata": {},
   "source": [
    "##### Change this cell to ignore bytes that aren't afftected by actions"
   ]
  },
  {
   "cell_type": "code",
   "execution_count": 213,
   "metadata": {},
   "outputs": [],
   "source": [
    "bytes_to_ignore = [   0,  63,  64,  66,100, 101,\n",
    "                   80,  84,  86,  87,  88,  89,  90,  92,  93,  94,  95,  96,\n",
    "                   36,  37,  38,  39,  40, 124, 126 , 31,  67,  68,  69,  70,  72]"
   ]
  },
  {
   "cell_type": "markdown",
   "metadata": {},
   "source": [
    "##### Change this cell if you just want to look at a single RAM bytes value (like checking if the spreadsheet is correct"
   ]
  },
  {
   "cell_type": "code",
   "execution_count": 663,
   "metadata": {},
   "outputs": [],
   "source": [
    "bytes_to_print_alone = [  ]"
   ]
  },
  {
   "cell_type": "markdown",
   "metadata": {},
   "source": [
    "### 5.  Repeat the Below Cell To Step Through The Game"
   ]
  },
  {
   "cell_type": "markdown",
   "metadata": {},
   "source": [
    "1. First pick ```action = \"noop\", num_times = 1``` a few times to see what RAM Byte Inds Change\n",
    "2. Set bytes_to_ignore to those values\n",
    "3. Now doing a noop should show no RAM bytes changing\n",
    "4. Now try controlling the agent with \"right\", \"left\", and \"fire\"\n",
    "5. See what RAM values change (those are probabaly the agents position"
   ]
  },
  {
   "cell_type": "markdown",
   "metadata": {},
   "source": [
    "##### Modify this cell"
   ]
  },
  {
   "cell_type": "code",
   "execution_count": 664,
   "metadata": {},
   "outputs": [],
   "source": [
    "env.reset();"
   ]
  },
  {
   "cell_type": "code",
   "execution_count": 781,
   "metadata": {},
   "outputs": [],
   "source": [
    "action = \"down\"\n",
    "num_times = 3"
   ]
  },
  {
   "cell_type": "markdown",
   "metadata": {},
   "source": [
    "##### Then run this cell (run it 3 or 4 times first to get the human rendering to reach half-screen)"
   ]
  },
  {
   "cell_type": "code",
   "execution_count": 785,
   "metadata": {},
   "outputs": [
    {
     "name": "stdout",
     "output_type": "stream",
     "text": [
      "RAM Byte Inds     : [  45,  50,  65,  74, 106, 107, 122, 123, 125, 127 ]\n",
      "RAM Values Before : [  62,  22, 128,   1,   0, 212,   6, 222, 249, 242 ]\n",
      "RAM Values After  : [   0,  21, 125,   2,   1, 196, 130, 248, 248, 241 ]\n"
     ]
    }
   ],
   "source": [
    "inds = np.arange(128)\n",
    "if len(bytes_to_print_alone) > 0:\n",
    "    inds = np.asarray(bytes_to_print_alone)\n",
    "else:    \n",
    "    inds = np.delete(inds, bytes_to_ignore)\n",
    "r0 = env.env.ale.getRAM()[inds]\n",
    "step(action, num_times)# change this action\n",
    "env.render(\"human\")\n",
    "r1 = env.env.ale.getRAM()[inds]\n",
    "diff = r1 - r0\n",
    "if len(bytes_to_print_alone) > 0:\n",
    "    i,rb,ra = inds, r0, r1\n",
    "else:\n",
    "    i,rb,ra = inds[diff!=0], r0[diff!=0], r1[diff!=0]\n",
    "printinds(i,name=\"RAM Byte Inds    \") # prints rams that change\n",
    "printinds(rb,  name=\"RAM Values Before\")\n",
    "printinds(ra,  name=\"RAM Values After \")"
   ]
  },
  {
   "cell_type": "code",
   "execution_count": 342,
   "metadata": {},
   "outputs": [
    {
     "data": {
      "text/plain": [
       "[12,\n",
       " 148,\n",
       " 0,\n",
       " 127,\n",
       " 56,\n",
       " 3,\n",
       " 16,\n",
       " 124,\n",
       " 15,\n",
       " 240,\n",
       " 254,\n",
       " 16,\n",
       " 63,\n",
       " 192,\n",
       " 1,\n",
       " 220,\n",
       " 4,\n",
       " 32,\n",
       " 144,\n",
       " 220,\n",
       " 15,\n",
       " 234,\n",
       " 185,\n",
       " 138,\n",
       " 234,\n",
       " 135,\n",
       " 30,\n",
       " 20,\n",
       " 116,\n",
       " 90,\n",
       " 4,\n",
       " 4,\n",
       " 78,\n",
       " 246,\n",
       " 253,\n",
       " 248,\n",
       " 105]"
      ]
     },
     "execution_count": 342,
     "metadata": {},
     "output_type": "execute_result"
    }
   ],
   "source": [
    "[   3,   4,   6,   7,  10,  12,  14,  16,  18,  20,  22,  23,  24,  27,  36,  37,  38,  39,  40,  41,  59,  60,  67,  68,  69,  70,  74,  75,  76,  78,  85,  91, 122, 123, 124, 125, 126 ]\n",
    "[  15, 145,   1,  63,  28,   7,   0,  62,  31, 112, 127,   0, 127, 129,   0, 247, 173, 255,  64, 221,  14, 235, 186,  22, 232, 226,  31,  19, 241, 205,   5,   5,   6, 222,  99, 249, 238 ]\n",
    "[  12, 148,   0, 127,  56,   3,  16, 124,  15, 240, 254,  16,  63, 192,   1, 220,   4,  32, 144, 220,  15, 234, 185, 138, 234, 135,  30,  20, 116,  90,   4,   4,  78, 246, 253, 248, 105 ]"
   ]
  },
  {
   "cell_type": "code",
   "execution_count": 141,
   "metadata": {},
   "outputs": [
    {
     "data": {
      "text/plain": [
       "5"
      ]
     },
     "execution_count": 141,
     "metadata": {},
     "output_type": "execute_result"
    }
   ],
   "source": [
    "253 % 8"
   ]
  },
  {
   "cell_type": "code",
   "execution_count": null,
   "metadata": {},
   "outputs": [],
   "source": []
  },
  {
   "cell_type": "code",
   "execution_count": null,
   "metadata": {},
   "outputs": [],
   "source": []
  }
 ],
 "metadata": {
  "kernelspec": {
   "display_name": "Python 3",
   "language": "python",
   "name": "python3"
  },
  "language_info": {
   "codemirror_mode": {
    "name": "ipython",
    "version": 3
   },
   "file_extension": ".py",
   "mimetype": "text/x-python",
   "name": "python",
   "nbconvert_exporter": "python",
   "pygments_lexer": "ipython3",
   "version": "3.7.1"
  }
 },
 "nbformat": 4,
 "nbformat_minor": 2
}
