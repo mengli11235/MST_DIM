{
 "cells": [
  {
   "cell_type": "code",
   "execution_count": null,
   "metadata": {},
   "outputs": [],
   "source": [
    "import sys\n",
    "\n",
    "sys.path.append(\"/Users/evanracah/Dropbox/projects/rl-representation-learning/\")"
   ]
  },
  {
   "cell_type": "code",
   "execution_count": null,
   "metadata": {},
   "outputs": [],
   "source": [
    "from src.atari_zoo import get_atari_zoo_episodes\n",
    "from matplotlib import pyplot as plt\n",
    "env = \"PrivateEyeNoFrameskip-v4\"\n",
    "import numpy as np\n",
    "\n",
    "def printinds(inds,name=\"\"):\n",
    "    print(name,\": [\",\", \".join([\"%3i\"%(i) for i in inds]),\"]\") \n",
    "\n",
    "%matplotlib inline\n",
    "\n",
    "episodes, episode_rams, episode_labels, episode_rewards = get_atari_zoo_episodes(env, run_ids=[1], num_frame_stack=1, downsample=False, algos = [\"rainbow\"],\n",
    "                           tags = [\"final\"],\n",
    "                           use_representations_instead_of_frames=False, get_ram=True)"
   ]
  },
  {
   "cell_type": "code",
   "execution_count": null,
   "metadata": {},
   "outputs": [],
   "source": [
    "episode=episodes[0]\n",
    "ram = episode_rams[0]"
   ]
  },
  {
   "cell_type": "code",
   "execution_count": null,
   "metadata": {},
   "outputs": [],
   "source": [
    "# list(zip(np.arange(110,120), np.var(ram[:,110:120],axis=0)))\n",
    "# #, list(zip(np.arange(3,21), np.var(ram[:,3:21],axis=0)))"
   ]
  },
  {
   "cell_type": "code",
   "execution_count": null,
   "metadata": {},
   "outputs": [],
   "source": [
    "bytes_to_ignore = [ ]\n",
    "bytes_to_print_alone = [60,72]"
   ]
  },
  {
   "cell_type": "code",
   "execution_count": null,
   "metadata": {},
   "outputs": [],
   "source": [
    "len(episode)"
   ]
  },
  {
   "cell_type": "code",
   "execution_count": null,
   "metadata": {},
   "outputs": [],
   "source": [
    "episode_rewards"
   ]
  },
  {
   "cell_type": "code",
   "execution_count": null,
   "metadata": {},
   "outputs": [],
   "source": [
    "i, ip1 =1337,1400\n",
    "plt.figure(1,figsize=(14,14))\n",
    "s1,s2 = plt.subplot(121), plt.subplot(122)\n",
    "s1.imshow(episode[i][:,:,0],cmap=\"gray\")\n",
    "s2.imshow(episode[ip1][:,:,0],cmap=\"gray\")\n",
    "s1.axis(\"off\");\n",
    "s2.axis(\"off\")"
   ]
  },
  {
   "cell_type": "code",
   "execution_count": null,
   "metadata": {},
   "outputs": [],
   "source": [
    "inds = np.arange(128)\n",
    "if len(bytes_to_print_alone) > 0:\n",
    "    inds = np.asarray(bytes_to_print_alone)\n",
    "else:    \n",
    "    inds = np.delete(inds, bytes_to_ignore)\n",
    "r0 = ram[i][inds]\n",
    "r1 = ram[ip1][inds]\n",
    "diff = r1 - r0\n",
    "if len(bytes_to_print_alone) > 0:\n",
    "    ind,rb,ra = inds, r0, r1\n",
    "else:\n",
    "    ind,rb,ra = inds[diff!=0], r0[diff!=0], r1[diff!=0]\n",
    "printinds(ind,name=\"RAM Byte Inds    \") # prints rams that change\n",
    "printinds(rb,  name=\"RAM Values Before\")\n",
    "printinds(ra,  name=\"RAM Values After \")"
   ]
  }
 ],
 "metadata": {
  "kernelspec": {
   "display_name": "Python 3",
   "language": "python",
   "name": "python3"
  },
  "language_info": {
   "codemirror_mode": {
    "name": "ipython",
    "version": 3
   },
   "file_extension": ".py",
   "mimetype": "text/x-python",
   "name": "python",
   "nbconvert_exporter": "python",
   "pygments_lexer": "ipython3",
   "version": "3.7.1"
  }
 },
 "nbformat": 4,
 "nbformat_minor": 2
}
